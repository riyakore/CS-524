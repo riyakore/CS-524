{
 "cells": [
  {
   "cell_type": "markdown",
   "metadata": {},
   "source": [
    "### CS/ECE/ISyE 524 &mdash; Introduction to Optimization &mdash; Summer 2023 ###\n",
    "\n",
    "# Leveraging Mathematical Modeling for Marketing Campaign Optimization #\n",
    "\n",
    "#### Tanisha Raaj (anandraaj@wisc.edu), Riya Kore (rykore@wisc.edu)\n",
    "\n",
    "### Table of Contents\n",
    "\n",
    "1. [Introduction](#1.-Introduction)\n",
    "1. [Mathematical Model](#2.-Mathematical-model)\n",
    "1. [Solution](#3.-Solution)\n",
    "1. [Results and Discussion](#4.-Results-and-discussion)\n",
    "1. [Optional Subsection](#4.A.-Feel-free-to-add-subsections)\n",
    "1. [Conclusion](#5.-Conclusion)"
   ]
  },
  {
   "cell_type": "markdown",
   "metadata": {},
   "source": [
    "## 1. Introduction ##\n",
    "\n",
    "In today's competitive business landscape, optimizing marketing campaigns is essential for growth. The challenge is to allocate limited resources across various channels to maximize return on investment (ROI). This project aims to develop a mathematical model to optimize marketing budget distribution.\n",
    "\n",
    "Traditionally, marketing decisions have relied on intuition rather than data-driven analysis. However, the rise of advanced computational tools and data availability has enabled the development of sophisticated models to enhance decision-making. Optimizing marketing efforts is vital in a dynamic environment where consumer preferences and behaviors are constantly changing. Effective budget allocation can significantly improve campaign performance and revenue, while poor allocation can lead to wasted resources and missed opportunities.\n",
    "\n",
    "Marketing optimization has a rich history that dates back to the early days of advertising. Initially, marketers relied on simple heuristics and rules of thumb to allocate budgets. With the advent of digital advertising and the explosion of data, the need for more precise and efficient methods became evident. Today, mathematical models and algorithms play a crucial role in marketing strategy, providing businesses with the tools to make informed decisions and stay competitive in a crowded marketplace.\n",
    "\n",
    "Our project will create a linear programming model to optimize marketing budgets, considering factors such as financial constraints, platform costs, audience reach, channel efficacy, and demographic or geographic requirements. The data driving our model will be sourced from historical performance metrics of major digital advertising platforms and past marketing initiatives, supplemented by synthetic data to fill any gaps.\n",
    "\n",
    "Key data sources include the Social Media Advertising Dataset, Marketing Spending Analysis dataset, and Marketing Campaign Performance dataset from Kaggle. These datasets provide valuable insights into expenditure, reach, and ROI metrics, forming the foundation of our model. Historical data allows us to understand past trends and performance, while synthetic data helps simulate various scenarios and test the robustness of our model.\n",
    "\n",
    "Our model will aim to maximize ROI while adhering to budgetary and operational constraints. It will allocate budgets across different channels, considering cost per unit, audience reach, ROI, and spending limits. The objective is to maximize the total ROI across all channels, ensuring that spending does not exceed the budget and specific audience reach requirements are met. By integrating these various factors, our model seeks to provide a comprehensive solution to the complex problem of marketing budget allocation.\n",
    "\n",
    "Potential challenges include acquiring accurate and comprehensive real-world data, capturing the complex relationships between marketing spend and outcomes within a linear framework, and accounting for the dynamic nature of marketing effectiveness across different channels. Addressing these challenges is crucial for the project's success. We will need to continually validate and refine our model to ensure its accuracy and applicability in real-world scenarios.\n",
    "\n",
    "The rest of this report is structured as follows: Section 2 provides a detailed description of the data sources and their relevance to our model. Section 3 outlines the methodological framework, including the linear programming model and its components. Section 4 discusses the implementation of the model and the results obtained from initial simulations. Section 5 explores potential challenges and limitations of the model, and Section 6 concludes with a summary of findings and future directions for research."
   ]
  },
  {
   "cell_type": "markdown",
   "metadata": {},
   "source": [
    "## 2. Mathematical model ##\n",
    "\n",
    "A discussion of the modeling assumptions made in the problem (e.g. is it from physics? economics? something else?). Explain the decision variables, the constraints, and the objective function. Finally, show the optimization problem written in standard form. Discuss the model type (LP, QP, MIP, etc.). Equations should be formatted in $\\\\LaTeX$ within the IJulia notebook. For this section you may **assume the reader is familiar with the material covered in class**.\n",
    "\n",
    "Here is an example of an equation:\n",
    "\n",
    "$$\\begin{bmatrix}\n",
    "      1 & 2 \\\\\n",
    "       3 & 4\n",
    "    \\end{bmatrix}\n",
    "    \\begin{bmatrix} x \\\\ y \\end{bmatrix} =\n",
    "    \\begin{bmatrix} 5 \\\\ 6 \\end{bmatrix}$$\n",
    "\n",
    "And here is an example of an optimization problem in standard form:\n",
    "$$\\begin{aligned}\n",
    "  \\underset{x \\in \\mathbb{R^n}}{\\text{maximize}}\\qquad& f_0(x) \\\\\n",
    "    \\text{subject to:}\\qquad& f_i(x) \\le 0 && i=1,\\dots,m\\\\\n",
    "    & h_j(x) = 0 && j=1,\\dots,r\n",
    "    \\end{aligned}$$\n",
    "\n",
    "For some quick tips on using $\\LaTeX$, see [this cheat sheet](http://users.dickinson.edu/~richesod/latex/latexcheatsheet.pdf)."
   ]
  },
  {
   "cell_type": "markdown",
   "metadata": {},
   "source": [
    "## 3. Solution ##\n",
    "\n",
    "Here, you should code up your model in Julia + JuMP and solve it. Your code should be clean, easy to read, well annotated and commented, and it should compile! You are not allowed to use other programming languages or DCP packages such as `convex.jl`. **I will be running your code**. I suggest having multiple code blocks separated by text blocks that explain the various parts of your solution. You may also solve several versions of your problem with different models/assumptions.\n",
    "\n",
    "It's fine to call external packages such as `Gurobi`, but try to minimize the use of exotic libraries."
   ]
  },
  {
   "cell_type": "code",
   "execution_count": 5,
   "metadata": {},
   "outputs": [
    {
     "name": "stdout",
     "output_type": "stream",
     "text": [
      "The total number of horses is: 10.0\n",
      "The total number of donkeys is: 0.0\n",
      "The total number of goats is: 0.0\n"
     ]
    }
   ],
   "source": [
    "using JuMP, HiGHS\n",
    "\n",
    "m = Model()\n",
    "\n",
    "things = [:horses, :donkeys, :goats]  # these are the things\n",
    "@variable(m, x[things] >= 0)          # the quantities of each of the things (can't be negative)\n",
    "@constraint(m, sum(x) <= 10)          # we can't have any more than 10 things total\n",
    "@objective(m, Max, x[:horses])        # we want to maximize the number of horses\n",
    "\n",
    "set_silent(m) # supress solver output for a cleaner report\n",
    "set_optimizer(m, HiGHS.Optimizer)\n",
    "\n",
    "optimize!(m)\n",
    "\n",
    "for i in things\n",
    "    println(\"The total number of \", i, \" is: \", value(x[i]))     # print result\n",
    "end"
   ]
  },
  {
   "cell_type": "markdown",
   "metadata": {},
   "source": [
    "## 4. Results and discussion ##\n",
    "\n",
    "Here, you display and discuss the results. Show figures, plots, images, trade-off curves, or whatever else you can think of to best illustrate your results. The discussion should explain what the results mean, and how to interpret them. You should also explain the limitations of your approach/model and how sensitive your results are to the assumptions you made.\n",
    "\n",
    " Use plots (see `PyPlot` examples from class), or you can display results in a table like this:\n",
    "\n",
    "| Tables        | Are          | Cool  |\n",
    "| ------------- |:-------------| -----:|\n",
    "| col 3 is      |right-aligned |\\$1600 |\n",
    "|  colons       | align columns|  \\$12 |\n",
    "| zebra stripes |    are neat  |   \\$1 |\n",
    "\n",
    "### 4.A. Feel free to add subsections\n",
    "\n",
    "#### 4.A.a. or subsubsections"
   ]
  },
  {
   "cell_type": "markdown",
   "metadata": {},
   "source": [
    "## 5. Conclusion ##\n",
    "\n",
    "Summarize your findings and your results, and talk about at least one possible future direction; something that might be interesting to pursue as a follow-up to your project."
   ]
  },
  {
   "cell_type": "markdown",
   "metadata": {},
   "source": []
  }
 ],
 "metadata": {
  "kernelspec": {
   "display_name": "Julia 1.10.4",
   "language": "julia",
   "name": "julia-1.10"
  },
  "language_info": {
   "file_extension": ".jl",
   "mimetype": "application/julia",
   "name": "julia",
   "version": "1.10.4"
  }
 },
 "nbformat": 4,
 "nbformat_minor": 4
}
