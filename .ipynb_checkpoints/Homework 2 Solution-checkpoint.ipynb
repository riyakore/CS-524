{
 "cells": [
  {
   "cell_type": "markdown",
   "id": "ac56b5df-64c2-42e5-8689-331de6a5195d",
   "metadata": {},
   "source": [
    "# Problem 1"
   ]
  },
  {
   "cell_type": "markdown",
   "id": "b1d0e3b1-528e-4e87-a4a9-7f043626c6b8",
   "metadata": {},
   "source": [
    "### Decision Variables:\n",
    "### \\$ x_{p,o} \\$: amount of raw input p used to produce output o, where o can be Jet A or 100LL."
   ]
  },
  {
   "cell_type": "markdown",
   "id": "734533cb-08f6-49cb-8d0d-6a0d6c4e4df2",
   "metadata": {},
   "source": [
    "### Objective Function:\n",
    "### Minimize the total cost of raw inputs and processing\n",
    "### Minimize \\$ \\sum_{p \\in P} \\sum_{o \\in O} (c_{p} + \\alpha_{treat} + \\alpha_{prod, o} + \\alpha_{blend}) \\cdot x_{p,o} \\$"
   ]
  },
  {
   "cell_type": "markdown",
   "id": "1c072e46-5be5-42d3-8524-b471b86d6102",
   "metadata": {},
   "source": [
    "### Constraints:\n",
    "### 1. Supply constraint for each raw input p:\n",
    "### \\$ \\sum_{o \\in O} x_{p,o} \\leq u_{p} \\$\n",
    "### 2. Demand Constraints for outputs (Jet A and 100LL):\n",
    "### \\$ \\sum_{p \\in P} x_{p,Jet A} \\geq D_{1} \\$\n",
    "### \\$ \\sum_{p \\in P} x_{p,100LL} \\geq D_{2} \\$\n",
    "### 3. Quality Constraints for each requirement r:\n",
    "### \\$ \\sum_{p \\in P} a_{pr} \\cdot x_{p,o} \\geq b_{r} \\cdot D_{o} \\$ for each output o"
   ]
  },
  {
   "cell_type": "code",
   "execution_count": 7,
   "id": "8377ba17-3fb3-4908-95eb-08f77c787c23",
   "metadata": {},
   "outputs": [
    {
     "name": "stderr",
     "output_type": "stream",
     "text": [
      "WARNING: replacing module AvGasData.\n"
     ]
    }
   ],
   "source": [
    "include(\"data_definitions.jl\")"
   ]
  },
  {
   "cell_type": "code",
   "execution_count": 4,
   "id": "bcb82f1d-67b8-4a8c-b0e7-1096bca93b49",
   "metadata": {},
   "outputs": [
    {
     "name": "stderr",
     "output_type": "stream",
     "text": [
      "\u001b[33m\u001b[1m┌ \u001b[22m\u001b[39m\u001b[33m\u001b[1mWarning: \u001b[22m\u001b[39mthread = 1 warning: parsed expected 1 columns, but didn't reach end of line around data row: 3. Parsing extra columns and widening final columnset\n",
      "\u001b[33m\u001b[1m└ \u001b[22m\u001b[39m\u001b[90m@ CSV ~/.julia/packages/CSV/cwX2w/src/file.jl:587\u001b[39m\n",
      "\u001b[33m\u001b[1m┌ \u001b[22m\u001b[39m\u001b[33m\u001b[1mWarning: \u001b[22m\u001b[39mthread = 1 warning: parsed expected 1 columns, but didn't reach end of line around data row: 3. Parsing extra columns and widening final columnset\n",
      "\u001b[33m\u001b[1m└ \u001b[22m\u001b[39m\u001b[90m@ CSV ~/.julia/packages/CSV/cwX2w/src/file.jl:587\u001b[39m\n",
      "\u001b[33m\u001b[1m┌ \u001b[22m\u001b[39m\u001b[33m\u001b[1mWarning: \u001b[22m\u001b[39mthread = 1 warning: only found 1 / 2 columns around data row: 8. Filling remaining columns with `missing`\n",
      "\u001b[33m\u001b[1m└ \u001b[22m\u001b[39m\u001b[90m@ CSV ~/.julia/packages/CSV/cwX2w/src/file.jl:586\u001b[39m\n",
      "\u001b[33m\u001b[1m┌ \u001b[22m\u001b[39m\u001b[33m\u001b[1mWarning: \u001b[22m\u001b[39mthread = 1 warning: only found 1 / 2 columns around data row: 48. Filling remaining columns with `missing`\n",
      "\u001b[33m\u001b[1m└ \u001b[22m\u001b[39m\u001b[90m@ CSV ~/.julia/packages/CSV/cwX2w/src/file.jl:586\u001b[39m\n",
      "\u001b[33m\u001b[1m┌ \u001b[22m\u001b[39m\u001b[33m\u001b[1mWarning: \u001b[22m\u001b[39mthread = 1 warning: only found 1 / 2 columns around data row: 49. Filling remaining columns with `missing`\n",
      "\u001b[33m\u001b[1m└ \u001b[22m\u001b[39m\u001b[90m@ CSV ~/.julia/packages/CSV/cwX2w/src/file.jl:586\u001b[39m\n",
      "\u001b[33m\u001b[1m┌ \u001b[22m\u001b[39m\u001b[33m\u001b[1mWarning: \u001b[22m\u001b[39mthread = 1 warning: only found 1 / 2 columns around data row: 51. Filling remaining columns with `missing`\n",
      "\u001b[33m\u001b[1m└ \u001b[22m\u001b[39m\u001b[90m@ CSV ~/.julia/packages/CSV/cwX2w/src/file.jl:586\u001b[39m\n",
      "\u001b[33m\u001b[1m┌ \u001b[22m\u001b[39m\u001b[33m\u001b[1mWarning: \u001b[22m\u001b[39mthread = 1 warning: only found 1 / 2 columns around data row: 57. Filling remaining columns with `missing`\n",
      "\u001b[33m\u001b[1m└ \u001b[22m\u001b[39m\u001b[90m@ CSV ~/.julia/packages/CSV/cwX2w/src/file.jl:586\u001b[39m\n",
      "\u001b[33m\u001b[1m┌ \u001b[22m\u001b[39m\u001b[33m\u001b[1mWarning: \u001b[22m\u001b[39mthread = 1 warning: only found 1 / 2 columns around data row: 58. Filling remaining columns with `missing`\n",
      "\u001b[33m\u001b[1m└ \u001b[22m\u001b[39m\u001b[90m@ CSV ~/.julia/packages/CSV/cwX2w/src/file.jl:586\u001b[39m\n",
      "\u001b[33m\u001b[1m┌ \u001b[22m\u001b[39m\u001b[33m\u001b[1mWarning: \u001b[22m\u001b[39mthread = 1 warning: only found 1 / 2 columns around data row: 60. Filling remaining columns with `missing`\n",
      "\u001b[33m\u001b[1m└ \u001b[22m\u001b[39m\u001b[90m@ CSV ~/.julia/packages/CSV/cwX2w/src/file.jl:586\u001b[39m\n",
      "\u001b[33m\u001b[1m┌ \u001b[22m\u001b[39m\u001b[33m\u001b[1mWarning: \u001b[22m\u001b[39mthread = 1 warning: only found 1 / 2 columns around data row: 61. Filling remaining columns with `missing`\n",
      "\u001b[33m\u001b[1m└ \u001b[22m\u001b[39m\u001b[90m@ CSV ~/.julia/packages/CSV/cwX2w/src/file.jl:586\u001b[39m\n",
      "\u001b[33m\u001b[1m┌ \u001b[22m\u001b[39m\u001b[33m\u001b[1mWarning: \u001b[22m\u001b[39mthread = 1 warning: only found 1 / 2 columns around data row: 64. Filling remaining columns with `missing`\n",
      "\u001b[33m\u001b[1m└ \u001b[22m\u001b[39m\u001b[90m@ CSV ~/.julia/packages/CSV/cwX2w/src/file.jl:586\u001b[39m\n",
      "\u001b[33m\u001b[1m┌ \u001b[22m\u001b[39m\u001b[33m\u001b[1mWarning: \u001b[22m\u001b[39mthread = 1 warning: only found 1 / 2 columns around data row: 66. Filling remaining columns with `missing`\n",
      "\u001b[33m\u001b[1m└ \u001b[22m\u001b[39m\u001b[90m@ CSV ~/.julia/packages/CSV/cwX2w/src/file.jl:586\u001b[39m\n",
      "\u001b[33m\u001b[1m┌ \u001b[22m\u001b[39m\u001b[33m\u001b[1mWarning: \u001b[22m\u001b[39mthread = 1 warning: only found 1 / 2 columns around data row: 70. Filling remaining columns with `missing`\n",
      "\u001b[33m\u001b[1m└ \u001b[22m\u001b[39m\u001b[90m@ CSV ~/.julia/packages/CSV/cwX2w/src/file.jl:586\u001b[39m\n",
      "\u001b[33m\u001b[1m┌ \u001b[22m\u001b[39m\u001b[33m\u001b[1mWarning: \u001b[22m\u001b[39mthread = 1 warning: only found 1 / 2 columns around data row: 71. Filling remaining columns with `missing`\n",
      "\u001b[33m\u001b[1m└ \u001b[22m\u001b[39m\u001b[90m@ CSV ~/.julia/packages/CSV/cwX2w/src/file.jl:586\u001b[39m\n",
      "\u001b[33m\u001b[1m┌ \u001b[22m\u001b[39m\u001b[33m\u001b[1mWarning: \u001b[22m\u001b[39mthread = 1 warning: only found 1 / 2 columns around data row: 74. Filling remaining columns with `missing`\n",
      "\u001b[33m\u001b[1m└ \u001b[22m\u001b[39m\u001b[90m@ CSV ~/.julia/packages/CSV/cwX2w/src/file.jl:586\u001b[39m\n"
     ]
    },
    {
     "ename": "LoadError",
     "evalue": "MethodError: \u001b[0mCannot `convert` an object of type \u001b[92mMissing\u001b[39m\u001b[0m to an object of type \u001b[91mString\u001b[39m\n\n\u001b[0mClosest candidates are:\n\u001b[0m  convert(::Type{String}, \u001b[91m::StringManipulation.Decoration\u001b[39m)\n\u001b[0m\u001b[90m   @\u001b[39m \u001b[36mStringManipulation\u001b[39m \u001b[90m~/.julia/packages/StringManipulation/5Zfrz/src/\u001b[39m\u001b[90m\u001b[4mdecorations.jl:315\u001b[24m\u001b[39m\n\u001b[0m  convert(::Type{String}, \u001b[91m::Base.JuliaSyntax.Kind\u001b[39m)\n\u001b[0m\u001b[90m   @\u001b[39m \u001b[90mBase\u001b[39m \u001b[90m/Users/julia/.julia/scratchspaces/a66863c6-20e8-4ff4-8a62-49f30b1f605e/agent-cache/default-grannysmith-C07ZM05NJYVY.0/build/default-grannysmith-C07ZM05NJYVY-0/julialang/julia-release-1-dot-10/base/JuliaSyntax/src/\u001b[39m\u001b[90m\u001b[4mkinds.jl:975\u001b[24m\u001b[39m\n\u001b[0m  convert(::Type{String}, \u001b[91m::String\u001b[39m)\n\u001b[0m\u001b[90m   @\u001b[39m \u001b[90mBase\u001b[39m \u001b[90m\u001b[4messentials.jl:321\u001b[24m\u001b[39m\n\u001b[0m  ...\n",
     "output_type": "error",
     "traceback": [
      "MethodError: \u001b[0mCannot `convert` an object of type \u001b[92mMissing\u001b[39m\u001b[0m to an object of type \u001b[91mString\u001b[39m\n\n\u001b[0mClosest candidates are:\n\u001b[0m  convert(::Type{String}, \u001b[91m::StringManipulation.Decoration\u001b[39m)\n\u001b[0m\u001b[90m   @\u001b[39m \u001b[36mStringManipulation\u001b[39m \u001b[90m~/.julia/packages/StringManipulation/5Zfrz/src/\u001b[39m\u001b[90m\u001b[4mdecorations.jl:315\u001b[24m\u001b[39m\n\u001b[0m  convert(::Type{String}, \u001b[91m::Base.JuliaSyntax.Kind\u001b[39m)\n\u001b[0m\u001b[90m   @\u001b[39m \u001b[90mBase\u001b[39m \u001b[90m/Users/julia/.julia/scratchspaces/a66863c6-20e8-4ff4-8a62-49f30b1f605e/agent-cache/default-grannysmith-C07ZM05NJYVY.0/build/default-grannysmith-C07ZM05NJYVY-0/julialang/julia-release-1-dot-10/base/JuliaSyntax/src/\u001b[39m\u001b[90m\u001b[4mkinds.jl:975\u001b[24m\u001b[39m\n\u001b[0m  convert(::Type{String}, \u001b[91m::String\u001b[39m)\n\u001b[0m\u001b[90m   @\u001b[39m \u001b[90mBase\u001b[39m \u001b[90m\u001b[4messentials.jl:321\u001b[24m\u001b[39m\n\u001b[0m  ...\n",
      "",
      "Stacktrace:",
      " [1] get!(default::Function, h::Dict{String, UInt32}, key0::Missing)",
      "   @ Base ./dict.jl:465",
      " [2] checkpooled!(::Type{String}, pertaskcolumns::Nothing, col::CSV.Column, j::Int64, ntasks::Int64, nrows::Int64, ctx::CSV.Context)",
      "   @ CSV ~/.julia/packages/CSV/cwX2w/src/file.jl:514",
      " [3] CSV.File(ctx::CSV.Context, chunking::Bool)",
      "   @ CSV ~/.julia/packages/CSV/cwX2w/src/file.jl:302",
      " [4] File",
      "   @ ~/.julia/packages/CSV/cwX2w/src/file.jl:227 [inlined]",
      " [5] #File#32",
      "   @ ~/.julia/packages/CSV/cwX2w/src/file.jl:223 [inlined]",
      " [6] CSV.File(source::String)",
      "   @ CSV ~/.julia/packages/CSV/cwX2w/src/file.jl:162",
      " [7] read(source::String, sink::Type; copycols::Bool, kwargs::@Kwargs{})",
      "   @ CSV ~/.julia/packages/CSV/cwX2w/src/CSV.jl:117",
      " [8] read(source::String, sink::Type)",
      "   @ CSV ~/.julia/packages/CSV/cwX2w/src/CSV.jl:113",
      " [9] top-level scope",
      "   @ In[4]:1"
     ]
    }
   ],
   "source": []
  },
  {
   "cell_type": "code",
   "execution_count": null,
   "id": "da9fd756-d36f-48fb-841d-7f0fb2b3e477",
   "metadata": {},
   "outputs": [],
   "source": []
  }
 ],
 "metadata": {
  "kernelspec": {
   "display_name": "Julia 1.10.4",
   "language": "julia",
   "name": "julia-1.10"
  },
  "language_info": {
   "file_extension": ".jl",
   "mimetype": "application/julia",
   "name": "julia",
   "version": "1.10.4"
  }
 },
 "nbformat": 4,
 "nbformat_minor": 5
}
