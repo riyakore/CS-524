{
 "cells": [
  {
   "cell_type": "markdown",
   "id": "1927e2a5-2c1e-4190-a60f-e0ce544690aa",
   "metadata": {},
   "source": [
    "# Homework 3 Solution"
   ]
  },
  {
   "cell_type": "markdown",
   "id": "f24bc49f-ffce-4926-b0c0-c27da39d3c50",
   "metadata": {},
   "source": [
    "## Problem 1 - Duality Practice"
   ]
  },
  {
   "cell_type": "markdown",
   "id": "618aec50-fbb4-4f11-95f1-83423b55f1d8",
   "metadata": {},
   "source": [
    "## Primal Linear Program\n",
    "\n",
    "Consider the following primal linear program:\n",
    "\n",
    "\n",
    "\\begin{align*}\n",
    "\\text{Maximize} \\quad & z = 7x_1 - 3x_2 + 2x_3 + x_4 \\\\\n",
    "\\text{subject to} \\quad & x_1 - x_2 = 5 \\\\\n",
    "& 4x_2 + 6x_3 \\leq 9 \\\\\n",
    "& x_1 - x_3 - 2x_4 \\leq 4 \\\\\n",
    "& x_1 \\geq 0, \\quad x_2 \\text{ free}, \\quad x_3 \\geq 0, \\quad x_4 \\leq 0\n",
    "\\end{align*}\n",
    "\n",
    "\n",
    "## Dual Linear Program\n",
    "\n",
    "### Primal to Dual Conversion\n",
    "\n",
    "For each constraint in the primal, introduce a dual variable:\n",
    "\n",
    "1. \\$ x_1 - x_2 = 5 \\rightarrow y_1 \\$ (equality constraint)\n",
    "2. \\$ 4x_2 + 6x_3 \\leq 9 \\rightarrow y_2 \\$ (inequality constraint)\n",
    "3. \\$ x_1 - x_3 - 2x_4 \\leq 4 \\rightarrow y_3 \\$ (inequality constraint)\n",
    "\n",
    "The primal objective function:\n",
    "\n",
    "\\$ z = 7x_1 - 3x_2 + 2x_3 + x_4 \\$\n",
    "\n",
    "Becomes the right-hand side of the dual constraints.\n",
    "\n",
    "The primal constraints coefficients:\n",
    "\n",
    "\n",
    "\\begin{align*}\n",
    "\\text{Constraint 1: } & (1, -1, 0, 0) \\\\\n",
    "\\text{Constraint 2: } & (0, 4, 6, 0) \\\\\n",
    "\\text{Constraint 3: } & (1, 0, -1, -2)\n",
    "\\end{align*}\n",
    "\n",
    "\n",
    "Form the dual objective function.\n",
    "\n",
    "### Dual Problem\n",
    "\n",
    "The dual linear program will be:\n",
    "\n",
    "\n",
    "\\begin{align*}\n",
    "\\text{Minimize} \\quad & w = 5y_1 + 9y_2 + 4y_3 \\\\\n",
    "\\text{subject to} \\quad & y_1 + y_3 \\geq 7 \\\\\n",
    "& -y_1 + 4y_2 \\geq -3 \\\\\n",
    "& 6y_2 - y_3 \\geq 2 \\\\\n",
    "& -2y_3 \\geq 1 \\\\\n",
    "& y_1 \\text{ free}, \\quad y_2 \\geq 0, \\quad y_3 \\geq 0\n",
    "\\end{align*}\n"
   ]
  },
  {
   "cell_type": "code",
   "execution_count": 2,
   "id": "1e58ec39-2528-47a1-b41c-4a3cf5e7cc6e",
   "metadata": {},
   "outputs": [
    {
     "name": "stdout",
     "output_type": "stream",
     "text": [
      "Optimal objective value: 45.62500000000001\n",
      "y1 = 7.500000000000001\n",
      "y2 = 1.1250000000000002\n",
      "y3 = -0.5000000000000001\n"
     ]
    }
   ],
   "source": [
    "using JuMP, GLPK\n",
    "\n",
    "model = Model(GLPK.Optimizer)\n",
    "\n",
    "@variable(model, y1)\n",
    "@variable(model, y2 >= 0)\n",
    "@variable(model, y3 >= 0)\n",
    "\n",
    "@objective(model, Min, 5y1 + 9y2 + 4y3)\n",
    "\n",
    "@constraint(model, y1 + y3 >= 7)\n",
    "@constraint(model, -y1 + 4y2 >= -3)\n",
    "@constraint(model, 6y2 - y3 >= 2)\n",
    "@constraint(model, -2y3 >= 1)\n",
    "\n",
    "optimize!(model)\n",
    "\n",
    "println(\"Optimal objective value: \", objective_value(model))\n",
    "println(\"y1 = \", value(y1))\n",
    "println(\"y2 = \", value(y2))\n",
    "println(\"y3 = \", value(y3))"
   ]
  },
  {
   "cell_type": "markdown",
   "id": "06e23e21-d0b1-4901-811e-c638b39c2bbb",
   "metadata": {},
   "source": [
    "## Problem 2 - Max Flow Formulation"
   ]
  },
  {
   "cell_type": "code",
   "execution_count": 6,
   "id": "d417bcc0-e4af-44ad-ac4a-cda931f58693",
   "metadata": {},
   "outputs": [
    {
     "name": "stdout",
     "output_type": "stream",
     "text": [
      "No optimal solution found.\n"
     ]
    }
   ],
   "source": [
    "using JuMP, GLPK\n",
    "\n",
    "model = Model(GLPK.Optimizer)\n",
    "\n",
    "plane_types = [:A, :B, :C, :D]\n",
    "routes = [:R1, :R2, :R3, :R4]\n",
    "source = :source\n",
    "sink = :sink\n",
    "\n",
    "plane_availabilities = Dict(:A => 25, :B => 17, :C => 12, :D => 9)\n",
    "route_requirements = Dict(:R1 => 9, :R2 => 12, :R3 => 10, :R4 => 15)\n",
    "\n",
    "connections = [\n",
    "    (source, :A), (source, :B), (source, :C), (source, :D),\n",
    "    (:A, :R1), (:A, :R2), (:A, :R3), (:A, :R4),\n",
    "    (:B, :R1), (:B, :R3), (:B, :R4),\n",
    "    (:C, :R2), (:C, :R3),\n",
    "    (:D, :R3),\n",
    "    (:R1, sink), (:R2, sink), (:R3, sink), (:R4, sink)\n",
    "]\n",
    "\n",
    "@variable(model, flow[connections] >= 0)\n",
    "\n",
    "for p in plane_types\n",
    "    @constraint(model, sum(flow[(source, p)]) <= plane_availabilities[p])\n",
    "end\n",
    "\n",
    "for r in routes\n",
    "    @constraint(model, sum(flow[(r, sink)]) == route_requirements[r])\n",
    "end\n",
    "\n",
    "for p in plane_types\n",
    "    for r in routes\n",
    "        if (p, r) in connections\n",
    "            @constraint(model, flow[(source, p)] >= flow[(p, r)])\n",
    "            @constraint(model, flow[(p, r)] >= flow[(r, sink)])\n",
    "        end\n",
    "    end\n",
    "end\n",
    "\n",
    "@objective(model, Max, sum(flow[(source, p)] for p in plane_types))\n",
    "\n",
    "optimize!(model)\n",
    "\n",
    "if termination_status(model) == MOI.OPTIMAL\n",
    "    println(\"Optimal solution found:\")\n",
    "    for (i, j) in connections\n",
    "        println(\"Flow from $i to $j: \", value(flow[(i, j)]))\n",
    "    end\n",
    "else\n",
    "    println(\"No optimal solution found.\")\n",
    "end"
   ]
  },
  {
   "cell_type": "markdown",
   "id": "cfc0b5a3-2150-4eb5-9cb4-0c1644e7e71f",
   "metadata": {},
   "source": [
    "#### Thus there is no optimal solution for this problem"
   ]
  },
  {
   "cell_type": "markdown",
   "id": "ded7b44c-8779-495e-98e9-f9412dd7d371",
   "metadata": {},
   "source": [
    "## Problem 3 - Craft Brewing Duality"
   ]
  },
  {
   "cell_type": "code",
   "execution_count": 8,
   "id": "e5adfd18-e218-42ba-aafa-d4c0adc77605",
   "metadata": {},
   "outputs": [
    {
     "name": "stdout",
     "output_type": "stream",
     "text": [
      "Optimal objective value: 584888.8888888889\n",
      "x1 = 1866.6666666666665\n",
      "x2 = 977.7777777777777\n",
      "x3 = 1777.7777777777778\n",
      "x4 = 0.0\n",
      "Dual value of c1: -13.333333333333329\n",
      "Dual value of c2: -3.5555555555555562\n",
      "Dual value of c3: -62.22222222222224\n"
     ]
    }
   ],
   "source": [
    "using JuMP, GLPK\n",
    "\n",
    "# Create a new model with GLPK optimizer\n",
    "model = Model(GLPK.Optimizer)\n",
    "\n",
    "# Define the variables\n",
    "@variable(model, x1 >= 0)\n",
    "@variable(model, x2 >= 0)\n",
    "@variable(model, x3 >= 0)\n",
    "@variable(model, x4 >= 0)\n",
    "\n",
    "# Define the objective function\n",
    "@objective(model, Max, 60x1 + 120x2 + 200x3 + 300x4)\n",
    "\n",
    "# Define the constraints\n",
    "@constraint(model, c1, 2x1 + 3x2 + 3x3 + 5x4 <= 12000)\n",
    "@constraint(model, c2, 5x1 + 5x2 + 10x3 + 15x4 <= 32000)\n",
    "@constraint(model, c3, 0.25x1 + x2 + 2x3 + 3.5x4 <= 5000)\n",
    "\n",
    "# Solve the model\n",
    "optimize!(model)\n",
    "\n",
    "# Get the results\n",
    "optimal_objective_value = objective_value(model)\n",
    "x1_value = value(x1)\n",
    "x2_value = value(x2)\n",
    "x3_value = value(x3)\n",
    "x4_value = value(x4)\n",
    "\n",
    "println(\"Optimal objective value: \", optimal_objective_value)\n",
    "println(\"x1 = \", x1_value)\n",
    "println(\"x2 = \", x2_value)\n",
    "println(\"x3 = \", x3_value)\n",
    "println(\"x4 = \", x4_value)\n",
    "\n",
    "# Get the dual values\n",
    "dual_c1 = dual(model[:c1])\n",
    "dual_c2 = dual(model[:c2])\n",
    "dual_c3 = dual(model[:c3])\n",
    "\n",
    "println(\"Dual value of c1: \", dual_c1)\n",
    "println(\"Dual value of c2: \", dual_c2)\n",
    "println(\"Dual value of c3: \", dual_c3)"
   ]
  },
  {
   "cell_type": "markdown",
   "id": "d41029d0-e114-417f-ae8a-bba1abc7319e",
   "metadata": {},
   "source": [
    "## Problem 4 - A graphical approach to duality"
   ]
  },
  {
   "cell_type": "code",
   "execution_count": null,
   "id": "c6a67904-d380-46ae-b560-a1e7bd1cc90e",
   "metadata": {},
   "outputs": [],
   "source": []
  }
 ],
 "metadata": {
  "kernelspec": {
   "display_name": "Julia 1.10.4",
   "language": "julia",
   "name": "julia-1.10"
  },
  "language_info": {
   "file_extension": ".jl",
   "mimetype": "application/julia",
   "name": "julia",
   "version": "1.10.4"
  }
 },
 "nbformat": 4,
 "nbformat_minor": 5
}
