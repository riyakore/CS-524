{
 "cells": [
  {
   "cell_type": "markdown",
   "id": "ac56b5df-64c2-42e5-8689-331de6a5195d",
   "metadata": {},
   "source": [
    "# Problem 1"
   ]
  },
  {
   "cell_type": "markdown",
   "id": "b1d0e3b1-528e-4e87-a4a9-7f043626c6b8",
   "metadata": {},
   "source": [
    "### Decision Variables:\n",
    "### \\$ x_{p,o} \\$: amount of raw input p used to produce output o, where o can be Jet A or 100LL."
   ]
  },
  {
   "cell_type": "markdown",
   "id": "734533cb-08f6-49cb-8d0d-6a0d6c4e4df2",
   "metadata": {},
   "source": [
    "### Objective Function:\n",
    "### Minimize the total cost of raw inputs and processing\n",
    "### Minimize \\$ \\sum_{p \\in P} \\sum_{o \\in O} (c_{p} + \\alpha_{treat} + \\alpha_{prod, o} + \\alpha_{blend}) \\cdot x_{p,o} \\$"
   ]
  },
  {
   "cell_type": "markdown",
   "id": "1c072e46-5be5-42d3-8524-b471b86d6102",
   "metadata": {},
   "source": [
    "### Constraints:\n",
    "### 1. Supply constraint for each raw input p:\n",
    "### \\$ \\sum_{o \\in O} x_{p,o} \\leq u_{p} \\$\n",
    "### 2. Demand Constraints for outputs (Jet A and 100LL):\n",
    "### \\$ \\sum_{p \\in P} x_{p,Jet A} \\geq D_{1} \\$\n",
    "### \\$ \\sum_{p \\in P} x_{p,100LL} \\geq D_{2} \\$\n",
    "### 3. Quality Constraints for each requirement r:\n",
    "### \\$ \\sum_{p \\in P} a_{pr} \\cdot x_{p,o} \\geq b_{r} \\cdot D_{o} \\$ for each output o"
   ]
  },
  {
   "cell_type": "code",
   "execution_count": 28,
   "id": "8377ba17-3fb3-4908-95eb-08f77c787c23",
   "metadata": {},
   "outputs": [
    {
     "name": "stderr",
     "output_type": "stream",
     "text": [
      "WARNING: replacing module AvGasData.\n"
     ]
    }
   ],
   "source": [
    "include(\"/Users/riyakore/Desktop/CS/CS 524/data_definitions.jl\")\n",
    "using .AvGasData\n",
    "using JuMP, Cbc"
   ]
  },
  {
   "cell_type": "code",
   "execution_count": 29,
   "id": "43ddb27f-0689-471c-a7ee-f252ade9c69d",
   "metadata": {},
   "outputs": [
    {
     "name": "stdout",
     "output_type": "stream",
     "text": [
      "1:17\n"
     ]
    }
   ],
   "source": [
    "println(AvGasData.inputs)"
   ]
  },
  {
   "cell_type": "code",
   "execution_count": 30,
   "id": "83aed5d1-09c2-4a1b-b497-1a2e26245758",
   "metadata": {},
   "outputs": [
    {
     "ename": "LoadError",
     "evalue": "Constraints of type MathOptInterface.ScalarNonlinearFunction-in-MathOptInterface.LessThan{Float64} are not supported by the solver.\n\nIf you expected the solver to support your problem, you may have an error in your formulation. Otherwise, consider using a different solver.\n\nThe list of available solvers, along with the problem types they support, is available at https://jump.dev/JuMP.jl/stable/installation/#Supported-solvers.",
     "output_type": "error",
     "traceback": [
      "Constraints of type MathOptInterface.ScalarNonlinearFunction-in-MathOptInterface.LessThan{Float64} are not supported by the solver.\n\nIf you expected the solver to support your problem, you may have an error in your formulation. Otherwise, consider using a different solver.\n\nThe list of available solvers, along with the problem types they support, is available at https://jump.dev/JuMP.jl/stable/installation/#Supported-solvers.",
      "",
      "Stacktrace:",
      " [1] error(s::String)",
      "   @ Base ./error.jl:35",
      " [2] _moi_add_constraint(model::MathOptInterface.Utilities.CachingOptimizer{MathOptInterface.Bridges.LazyBridgeOptimizer{MathOptInterface.Utilities.CachingOptimizer{Cbc.Optimizer, MathOptInterface.Utilities.UniversalFallback{MathOptInterface.Utilities.GenericModel{Float64, MathOptInterface.Utilities.ObjectiveContainer{Float64}, MathOptInterface.Utilities.VariablesContainer{Float64}, Cbc._CbcConstraints{Float64, MathOptInterface.Utilities.MatrixOfConstraints{Float64, MathOptInterface.Utilities.MutableSparseMatrixCSC{Float64, Int32, MathOptInterface.Utilities.ZeroBasedIndexing}, MathOptInterface.Utilities.Hyperrectangle{Float64}, Cbc._LPProductOfSets{Float64}}, MathOptInterface.Utilities.VectorOfConstraints{MathOptInterface.VectorOfVariables, MathOptInterface.SOS1{Float64}}, MathOptInterface.Utilities.VectorOfConstraints{MathOptInterface.VectorOfVariables, MathOptInterface.SOS2{Float64}}}}}}}, MathOptInterface.Utilities.UniversalFallback{MathOptInterface.Utilities.Model{Float64}}}, f::MathOptInterface.ScalarNonlinearFunction, s::MathOptInterface.LessThan{Float64})",
      "   @ JuMP ~/.julia/packages/JuMP/7rBNn/src/constraints.jl:1004",
      " [3] add_constraint(model::Model, con::ScalarConstraint{NonlinearExpr, MathOptInterface.LessThan{Float64}}, name::String)",
      "   @ JuMP ~/.julia/packages/JuMP/7rBNn/src/constraints.jl:1036",
      " [4] macro expansion",
      "   @ ~/.julia/packages/JuMP/7rBNn/src/macros/@constraint.jl:173 [inlined]",
      " [5] macro expansion",
      "   @ ~/.julia/packages/JuMP/7rBNn/src/macros.jl:393 [inlined]",
      " [6] top-level scope",
      "   @ ./In[30]:17"
     ]
    }
   ],
   "source": [
    "m = Model(Cbc.Optimizer)\n",
    "\n",
    "@variable(m, x[AvGasData.inputs, AvGasData.outputs] >= 0)\n",
    "@objective(m, Min, sum(AvGasData.rm_cost[i] * x[i,j] + x[i,j] * (AvGasData.blend_cost + (i <= T ? AvGasData.treat_cost : 0) + (j == 1 ? AvGasData.jetA_prod_cost : AvGasData.onehunLL_prod_cost)) for i in AvGasData.inputs, j in AvGasData.outputs))\n",
    "\n",
    "for i in AvGasData.inputs\n",
    "    @constraint(m, sum(x[i,j] for j in AvGasData.outputs) <= AvGasData.avail[i])\n",
    "end\n",
    "\n",
    "\n",
    "for j in AvGasData.outputs\n",
    "    @constraint(m, sum(x[i,j] for i in AvGasData.inputs) >= AvGasData.demand[j])\n",
    "end\n",
    "\n",
    "\n",
    "for j in AvGasData.outputs\n",
    "    @constraint(m, sum(x[i,j] * AvGasData.req1_per[i] for i in AvGasData.inputs) / sum(x[i,j] for i in AvGasData.inputs) <= AvGasData.req1_lim)\n",
    "    @constraint(m, sum(x[i,j] * AvGasData.req2_per[i] for i in AvGasData.inputs) / sum(x[i,j] for i in AvGasData.inputs) <= AvGasData.req2_lim)\n",
    "end\n",
    "\n",
    "optimize!(m)\n",
    "println(\"Total Cost: \", objective_value(m))\n",
    "for i in inputs, j in outputs\n",
    "    println(\"x[\", i, \",\", j, \"] = \", getvalue(x[i,j]))\n",
    "end"
   ]
  },
  {
   "cell_type": "code",
   "execution_count": null,
   "id": "b4c1ab0c-9f42-4273-85f3-979b2bd686b5",
   "metadata": {},
   "outputs": [],
   "source": []
  }
 ],
 "metadata": {
  "kernelspec": {
   "display_name": "Julia 1.10.4",
   "language": "julia",
   "name": "julia-1.10"
  },
  "language_info": {
   "file_extension": ".jl",
   "mimetype": "application/julia",
   "name": "julia",
   "version": "1.10.4"
  }
 },
 "nbformat": 4,
 "nbformat_minor": 5
}
