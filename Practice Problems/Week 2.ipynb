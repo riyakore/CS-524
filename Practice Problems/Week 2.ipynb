{
 "cells": [
  {
   "cell_type": "code",
   "execution_count": 1,
   "id": "9a5e6fe0-9b3c-48d3-8259-bb2242f4ec41",
   "metadata": {},
   "outputs": [],
   "source": [
    "using JuMP, Clp"
   ]
  },
  {
   "cell_type": "markdown",
   "id": "110df779-cd0c-459f-b070-04aa251b8d97",
   "metadata": {},
   "source": [
    "# Multiperiod Planning Problems - ShoeCo example"
   ]
  },
  {
   "cell_type": "code",
   "execution_count": 2,
   "id": "c77eae39-637a-4a50-9f95-615c88845119",
   "metadata": {},
   "outputs": [
    {
     "name": "stdout",
     "output_type": "stream",
     "text": [
      "Build [3750.0 3750.0 2000.0 1000.0] shoes each month\n",
      "Use [93.75000000000001 93.75 50.0 50.00000000000001] workers each month\n",
      "Use [0.0 0.0 0.0 0.0] overtime hours each month\n",
      "Cost: 692500.0\n",
      "Coin0506I Presolve 15 (-1) rows, 23 (-1) columns and 44 (-2) elements\n",
      "Clp0006I 0  Obj 37500 Primal inf 6746.7591 (5)\n",
      "Clp0006I 13  Obj 692500\n",
      "Clp0000I Optimal - objective value 692500\n",
      "Coin0511I After Postsolve, objective 692500, infeasibilities - dual 0 (0), primal 0 (0)\n",
      "Clp0032I Optimal objective 692500 - 13 iterations time 0.002, Presolve 0.00\n"
     ]
    }
   ],
   "source": [
    "d = [3000 5000 2000 1000]  # monthly shoe demand\n",
    "\n",
    "m = Model(Clp.Optimizer)\n",
    "\n",
    "@variable(m, x[1:4] >= 0 ) # shoes produced in month t=1,2,3,4\n",
    "@variable(m, w[1:4] >= 0 ) # workers employed in month t=1,2,3,4\n",
    "@variable(m, o[1:4] >= 0 ) # overtime hours in month t=1,2,3,4\n",
    "@variable(m, h[1:4] >= 0 ) # workers hired in month t=1,2,3,4\n",
    "@variable(m, f[1:4] >= 0 ) # workers fired in month t=1,2,3,4\n",
    "@variable(m, i[1:4] >= 0 ) # shoes in inventory in month t=1,2,3,4\n",
    "\n",
    "# our objective is to minimize the total cost\n",
    "@objective(m, Min, 15*sum(x) + 16*sum(o) + 1600*sum(h) + 2000*sum(f)\n",
    "    + 1500*sum(w) + 3*sum(i))\n",
    "\n",
    "# constraint on how many total hours are available for shoe production\n",
    "@constraint(m, production[t in 1:4], 4*x[t] <= 160*w[t] + o[t])\n",
    "\n",
    "# overtime cannot be greater than 20*# workers in each month\n",
    "@constraint(m, overtime[t in 1:4], o[t] <= 20*w[t])\n",
    "\n",
    "# INVENTORY BALANCE #\n",
    "# amount we start with + amount we produce = amount we sell + amount that carries to next month\n",
    "\n",
    "# balance inventory in the first month \n",
    "@constraint(m, inv_bal_init, 500 + x[1] == d[1] + i[1])\n",
    "# balance inventory for all months after the first\n",
    "@constraint(m, inv_bal[t in 2:4], i[t-1] + x[t] == d[t] + i[t])\n",
    "\n",
    "# WORKER BALANCE #\n",
    "# number currently employed - number fired + number hired = number workers available\n",
    "\n",
    "# balance workers in first month\n",
    "@constraint(m, work_bal_init, 100 - f[1] + h[1] == w[1])\n",
    "# balance workers in all months after the first\n",
    "@constraint(m, work_bal[t in 2:4], w[t-1] - f[t] + h[t] == w[t])\n",
    "\n",
    "# solve this instance of ShoeCo and print relevant solution details\n",
    "optimize!(m)\n",
    "\n",
    "# note we use the Array function to turn the list of solution values into an Array.\n",
    "# this helps with solution legibility.\n",
    "println(\"Build \", Array(value.(x')), \" shoes each month\")\n",
    "println(\"Use \", Array(value.(w')), \" workers each month\")\n",
    "println(\"Use \", Array(value.(o')), \" overtime hours each month\")\n",
    "println(\"Cost: \", objective_value(m))"
   ]
  },
  {
   "cell_type": "markdown",
   "id": "ffe2d7d0-d250-48a0-bedd-732f75ff4307",
   "metadata": {},
   "source": [
    "## Post solution analysis:\n",
    "\n",
    "The problem with this solution is that the value of the number of workers each month is not an integer. It should be an integer. Maybe use a floor function from math to optimize it and only get integer values?"
   ]
  },
  {
   "cell_type": "markdown",
   "id": "af2b4288-7f4d-49c2-a844-823404451799",
   "metadata": {},
   "source": [
    "# Han's stressful Flight\n",
    "\n",
    "A minimax problem where you have to minimize all the maximums. Use the epigraph trick here where you define the max function as t and then minimize t"
   ]
  },
  {
   "cell_type": "code",
   "execution_count": 3,
   "id": "141d4ab4-24ce-4ed8-a7ad-48b455c0b03a",
   "metadata": {},
   "outputs": [
    {
     "name": "stdout",
     "output_type": "stream",
     "text": [
      "Han should fly at 7.5 parsecs/min\n",
      "Leia's stress: 5.0\n",
      "Chewbacca's stress: 9.25\n",
      "C-3P0's stress: 9.25\n",
      "Minimax stress level: 9.25\n",
      "Coin0506I Presolve 3 (-2) rows, 2 (0) columns and 6 (-2) elements\n",
      "Clp0006I 0  Obj 8.7 Primal inf 2.2135934 (1)\n",
      "Clp0006I 2  Obj 9.25\n",
      "Clp0000I Optimal - objective value 9.25\n",
      "Coin0511I After Postsolve, objective 9.25, infeasibilities - dual 0 (0), primal 0 (0)\n",
      "Clp0032I Optimal objective 9.25 - 2 iterations time 0.002, Presolve 0.00\n"
     ]
    }
   ],
   "source": [
    "m = Model(Clp.Optimizer)\n",
    "\n",
    "@variable(m, x >= 0) # variable representing the speed Han flies\n",
    "@variable(m, t) # epigraph trick variable\n",
    "\n",
    "# minimize the epigraph variable t\n",
    "@objective(m, Min, t)\n",
    "\n",
    "@constraint(m, t >= -2*x + 20) # t must be >= Leia's stress function\n",
    "@constraint(m, t >= -(1/10)*x + 10) # t must be >= Chewbacca's stress function\n",
    "@constraint(m, t >= x + 1.75) # t must be >= C3P0's stress function\n",
    "@constraint(m, x >= 6) # Han has to fly fast enough to outrun the Empire\n",
    "@constraint(m, x <= 12) # Han can't exceed the Falcon's maximum speed\n",
    "\n",
    "# solve this instance of the minimax problem\n",
    "optimize!(m)\n",
    "\n",
    "# to help make the output neater, we can round the solution values to 2 decimal places\n",
    "# also note that we use each person's stress function to calculate their stress at the final speed\n",
    "println(\"Han should fly at \", round(value(x),digits=2), \" parsecs/min\")\n",
    "println(\"Leia's stress: \", -2*round(value(x),digits=2) + 20)\n",
    "println(\"Chewbacca's stress: \", -(1/10)*value(x) + 10)\n",
    "println(\"C-3P0's stress: \", round(value(x),digits=2) + 1.75)\n",
    "\n",
    "# the value of t tells us what the minimized maximum stress level is\n",
    "println(\"Minimax stress level: \", round(value(t),digits=2))"
   ]
  },
  {
   "cell_type": "code",
   "execution_count": null,
   "id": "5ab5d4f0-0e96-40e7-ab1c-0c9f33693f40",
   "metadata": {},
   "outputs": [],
   "source": []
  }
 ],
 "metadata": {
  "kernelspec": {
   "display_name": "Julia 1.10.4",
   "language": "julia",
   "name": "julia-1.10"
  },
  "language_info": {
   "file_extension": ".jl",
   "mimetype": "application/julia",
   "name": "julia",
   "version": "1.10.4"
  }
 },
 "nbformat": 4,
 "nbformat_minor": 5
}
